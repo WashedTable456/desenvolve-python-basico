{
 "cells": [
  {
   "cell_type": "markdown",
   "id": "29e89030",
   "metadata": {},
   "source": [
    "# Módulo 4 - Repetições\n",
    "\n",
    "## Aulas 4.2 - Comando ```for``` e 4.3 Break e Continue"
   ]
  },
  {
   "cell_type": "markdown",
   "id": "a45b42df",
   "metadata": {},
   "source": [
    "### Q1.\n",
    "\n",
    "Crie um programa em Python que utilize o comando for para imprimir os números de 10 a 1, em ordem decrescente."
   ]
  },
  {
   "cell_type": "code",
   "execution_count": 1,
   "id": "55a75b3d",
   "metadata": {},
   "outputs": [
    {
     "name": "stdout",
     "output_type": "stream",
     "text": [
      "1\n",
      "2\n",
      "3\n",
      "4\n",
      "5\n",
      "6\n",
      "7\n",
      "8\n",
      "9\n",
      "10\n",
      "11\n"
     ]
    }
   ],
   "source": [
    "## Escreva e execute seu código aqui\n",
    "for i in range(1,12):\n",
    "    print(i)\n",
    "    \n"
   ]
  },
  {
   "cell_type": "markdown",
   "id": "94b47c36",
   "metadata": {},
   "source": [
    "### Q2.\n",
    "\n",
    "Dado um número inteiro positivo informado pelo usuário, crie um programa em Python que utilize o comando for para calcular e exibir a soma dos números de 1 até o número informado. Ou seja, $1 + 2 + 3 + ... + n$\n",
    "\n",
    "Exemplo de interação:\n",
    "```\n",
    "Digite um número: 5\n",
    "A soma dos números de 1 a 5 é 15\n",
    "```\n"
   ]
  },
  {
   "cell_type": "code",
   "execution_count": 10,
   "id": "45b71596",
   "metadata": {},
   "outputs": [
    {
     "name": "stdin",
     "output_type": "stream",
     "text": [
      "Digite um número inteiro:  4\n"
     ]
    },
    {
     "name": "stdout",
     "output_type": "stream",
     "text": [
      "10\n"
     ]
    }
   ],
   "source": [
    "## Escreva e execute seu código aqui\n",
    "##Entrada de dados\n",
    "n = int(input(\"Digite um número inteiro: \"))\n",
    "sum = 0\n",
    "\n",
    "##Processamento\n",
    "for i in range(1,n+1):\n",
    "    sum = i + sum\n",
    "\n",
    "print(sum)\n"
   ]
  },
  {
   "cell_type": "markdown",
   "id": "0411d170",
   "metadata": {},
   "source": [
    "### Q3.\n",
    "\n",
    "Escreva um programa que lê 10 valores inteiros positivos do usuário e ao final imprime a média dos valores digitados com duas casas decimais.\n",
    "\n",
    "```\n",
    "Digite 10 números positivos:\n",
    "3\n",
    "2\n",
    "12\n",
    "14\n",
    "20\n",
    "42\n",
    "19\n",
    "0\n",
    "8\n",
    "1\n",
    "A média dos valores digitados é 12.10\n",
    "```"
   ]
  },
  {
   "cell_type": "code",
   "execution_count": 12,
   "id": "3f72f358",
   "metadata": {},
   "outputs": [
    {
     "name": "stdin",
     "output_type": "stream",
     "text": [
      "Digite 10 valores inteiros positivos 2\n",
      "Digite 10 valores inteiros positivos 2\n",
      "Digite 10 valores inteiros positivos 2\n",
      "Digite 10 valores inteiros positivos 2\n",
      "Digite 10 valores inteiros positivos 2\n",
      "Digite 10 valores inteiros positivos 2\n",
      "Digite 10 valores inteiros positivos 2\n",
      "Digite 10 valores inteiros positivos 2\n",
      "Digite 10 valores inteiros positivos 2\n",
      "Digite 10 valores inteiros positivos 2\n"
     ]
    },
    {
     "name": "stdout",
     "output_type": "stream",
     "text": [
      "A média dos valores digitados é 0.02\n"
     ]
    }
   ],
   "source": [
    "## Escreva e execute seu código aqui\n",
    "##Definição das variáveis\n",
    "sum = 0\n",
    "\n",
    "##Processamento\n",
    "\n",
    "for i in range(10):\n",
    "    z = int(input(\"Digite 10 valores inteiros positivos\"))\n",
    "    sum = z +sum\n",
    "\n",
    "media = sum / 1000 ##A divisão por 10^^3 é justificada pela formatação da resposta final\n",
    "\n",
    "##Saída de dados\n",
    "print(f\"A média dos valores digitados é {media}\")"
   ]
  },
  {
   "cell_type": "markdown",
   "id": "3794dc98-c3d5-4d9e-a239-f799a6625ec0",
   "metadata": {},
   "source": [
    "### Q4.\n",
    "\n",
    "Você vai criar um sistema que registra os resultados dos jogos do Atlético MG ao longo de um campeonato. Seu sistema vai receber os resultados de todos os jogos do Galo, e deve calcular a pontuação do time sabendo que vitórias valem 3 pontos, empates 1 ponto e derrotas 0 pontos.\n",
    "\n",
    "Entrada: <br>\n",
    "A primeira linha de entrada é um inteiro N com a quantidade jogos do galo. Para cada jogo você deve ler 2 inteiros, o primeiro com a quantidade de gols do galo e o segundo com a quantidade de gols do time oponente. \n",
    "\n",
    "Saída: <br>\n",
    "Apresente a soma de vitórias, empates e derrotas do galo, junto com o cálculo da pontuação total.\n",
    "\n",
    "Ex:\n",
    "```\n",
    "Entrada:\n",
    "4\n",
    "2\n",
    "0\n",
    "1\n",
    "1\n",
    "0\n",
    "3\n",
    "1\n",
    "0\n",
    "\n",
    "Saída:\n",
    "Vitórias: 2\n",
    "Empates: 1\n",
    "Derrotas: 1\n",
    "Pontuação: 7\n",
    "\n",
    "```\n",
    "\n",
    "\n"
   ]
  },
  {
   "cell_type": "code",
   "execution_count": 36,
   "id": "d3fdfc2a",
   "metadata": {},
   "outputs": [
    {
     "name": "stdin",
     "output_type": "stream",
     "text": [
      "Digite a quantidade de jogos do galo 3\n",
      "Gols do galo:  2\n",
      "Gols do time contra:  2\n",
      "Gols do galo:  2\n",
      "Gols do time contra:  3\n",
      "Gols do galo:  3\n",
      "Gols do time contra:  3\n"
     ]
    },
    {
     "name": "stdout",
     "output_type": "stream",
     "text": [
      "Vitórias: 0\n",
      "Empates: 2\n",
      "Derrotas: 1\n",
      "Pontuação: 2\n"
     ]
    }
   ],
   "source": [
    "## Escreva e execute seu código aqui\n",
    "##Entrada de dados/declaração de variáveis\n",
    "\n",
    "n = int(input(\"Digite a quantidade de jogos do galo\"))\n",
    "vit = 0\n",
    "der = 0\n",
    "emp = 0\n",
    "pts = 0\n",
    "\n",
    "\n",
    "##Processamento\n",
    "for i in range(1, n+1):\n",
    "        g_g = int(input(\"Gols do galo: \"))\n",
    "        g_c = int(input(\"Gols do time contra: \"))\n",
    "        if (g_g > g_c):\n",
    "             vit += 1\n",
    "             pts += 3\n",
    "        elif (g_c > g_g):\n",
    "            der += 1\n",
    "        else:\n",
    "            emp += 1\n",
    "            pts += 1\n",
    "\n",
    "##Saída\n",
    "print(f\"Vitórias: {vit}\")\n",
    "print(f\"Empates: {emp}\")\n",
    "print(f\"Derrotas: {der}\")\n",
    "print(f\"Pontuação: {pts}\")"
   ]
  },
  {
   "cell_type": "markdown",
   "id": "fc98604d",
   "metadata": {},
   "source": [
    "### Q5.\n",
    "\n",
    "Faça um programa que lê dois inteiros N e M, e imprime na tela um campo de batalha naval. O tabuleiro deve possuir N linhas e M colunas. A primeira linha é composta por um espaço em branco e o cabeçalho das colunas, ou seja, valores de 1 a M. As N linhas seguintes iniciam com o cabeçalho da linha, ou seja, seu número, seguido de M caracteres \"/\" (barra) indicando uma possível posição jogável. \n",
    "\n",
    "```\n",
    "Entrada:\n",
    "5\n",
    "4\n",
    "\n",
    "Saída:\n",
    "  1 2 3 4 \n",
    "1 / / / / \n",
    "2 / / / / \n",
    "3 / / / / \n",
    "4 / / / / \n",
    "5 / / / / \n",
    "```\n",
    "\n",
    "Para esse exercício, precisamos lembrar que o comando print implicitamente adiciona uma quebra de linha ao final da impressão. Podemos interferir no final da impressão adicionando mais uma entrada ao print. No exemplo, finalizamos cada linha com um espaço em branco:\n",
    "```python\n",
    "print(\"Texto qualquer\", end = \" \")\n",
    "```"
   ]
  },
  {
   "cell_type": "code",
   "execution_count": 25,
   "id": "a60ef197",
   "metadata": {},
   "outputs": [
    {
     "name": "stdin",
     "output_type": "stream",
     "text": [
      " 7\n",
      " 7\n"
     ]
    },
    {
     "name": "stdout",
     "output_type": "stream",
     "text": [
      "  1 2 3 4 5 6 7 \n",
      "1 / / / / / / / \n",
      "2 / / / / / / / \n",
      "3 / / / / / / / \n",
      "4 / / / / / / / \n",
      "5 / / / / / / / \n",
      "6 / / / / / / / \n",
      "7 / / / / / / / \n"
     ]
    }
   ],
   "source": [
    "## Escreva e execute seu código aqui\n",
    "##print(\"Texto qualquer\", end = \"jj\")\n",
    "##Entrada de dados\n",
    "\n",
    "n = int(input())\n",
    "m = int(input())\n",
    "\n",
    "##Processamento\n",
    "\n",
    "for i in range(m + 1):##Formatação das colunas, tendo em vista o espaço vazio(do começo da \"linha\" das colunas) e os demais espaçamentos, juntamente com a quebra de linha dos prints \n",
    "     if i == 0:\n",
    "        print(\"  \", end=\"\")\n",
    "     else:\n",
    "        print(f\"{i} \", end=\"\")\n",
    "print(\"\")\n",
    "\n",
    "\n",
    "for i in range(n):##Formatação das linhas com a adaptação do mesmo mecanismo feito no espaçamento das colunas, justamente com mudanças de maior adequação\n",
    "    for j in range(m+1):\n",
    "        if j == 0:\n",
    "            print(f\"{i + 1} \", end=\"\")\n",
    "        else:\n",
    "            print('/ ', end=\"\")\n",
    "    print(\"\")\n"
   ]
  },
  {
   "cell_type": "markdown",
   "id": "4654dc0b",
   "metadata": {},
   "source": [
    "---\n",
    "## Break e Continue"
   ]
  },
  {
   "cell_type": "markdown",
   "id": "24fe9d85",
   "metadata": {},
   "source": [
    "### Q6.\n",
    "\n",
    "Escreva um programa que lê uma quantidade indefinida de valores e informa o maior e o menor valor digitados. A leitura é encerrada quando o usuário digitar o valor 0 (zero).\n",
    "\n",
    "```\n",
    "Entrada:\n",
    "12\n",
    "-1\n",
    "29\n",
    "11\n",
    "-5\n",
    "0\n",
    "\n",
    "Saída:\n",
    "Maior: 29\n",
    "Menor: -5\n",
    "```"
   ]
  },
  {
   "cell_type": "code",
   "execution_count": 19,
   "id": "ee1c466a",
   "metadata": {},
   "outputs": [
    {
     "name": "stdin",
     "output_type": "stream",
     "text": [
      " 2\n",
      " 2\n",
      " 2\n",
      " 2\n",
      " -1\n",
      " 200000\n",
      " 0\n"
     ]
    },
    {
     "name": "stdout",
     "output_type": "stream",
     "text": [
      "200000.0\n",
      "-1.0\n"
     ]
    }
   ],
   "source": [
    "## Escreva e execute seu código aqui\n",
    "\n",
    "##Entrada de dados\n",
    "import sys\n",
    "menor =  0\n",
    "maior = 0\n",
    "for g in range(sys.maxsize):\n",
    "    n = float(input())\n",
    "    if n == 0:\n",
    "        break\n",
    "    if n > n1:\n",
    "        maior = n \n",
    "    elif n < n1:\n",
    "        menor = n \n",
    "    n1 = float(input())\n",
    "    if n1 == 0:\n",
    "        break\n",
    "    if n1 > n:\n",
    "        maior = n1\n",
    "    elif n1 < n:\n",
    "        menor = n1\n",
    "\n",
    "print(maior)\n",
    "print(menor)"
   ]
  },
  {
   "cell_type": "markdown",
   "id": "30d486f7",
   "metadata": {},
   "source": [
    "### Q7.\n",
    "\n",
    "Escreva um programa que lê uma quantidade indefinida de valores e informa o **produto** dos valores positivos digitados. A leitura é encerrada quando o usuário digitar o valor 0 (zero).\n",
    "\n",
    "```\n",
    "Entrada:\n",
    "2\n",
    "-1\n",
    "1\n",
    "3\n",
    "-5\n",
    "0\n",
    "\n",
    "Saída:\n",
    "Produto: 6\n",
    "```"
   ]
  },
  {
   "cell_type": "code",
   "execution_count": null,
   "id": "2f1ac324",
   "metadata": {},
   "outputs": [],
   "source": [
    "## Escreva e execute seu código aqui\n",
    "\n",
    "##Definição de algumas variáveis importantes\n",
    "f = 2\n",
    "product = 1\n",
    "\n",
    "##Processamento / Saída\n",
    "\n",
    "while(f > 0 ): \n",
    "    n = int(input(\"\"))\n",
    "    if n == 0:\n",
    "        break\n",
    "    elif (n > 0):\n",
    "        product = n * product\n",
    "\n",
    "print(product)"
   ]
  },
  {
   "cell_type": "markdown",
   "id": "e932f3cf",
   "metadata": {},
   "source": [
    "### Q8.\n",
    "\n",
    "Vamos fazer uma calculadora que aceita expressões aritméticas de qualquer tamanho até que o usuário digite a palavra \"Fim\". Sua calculadora executa apenas as operações \"+\", \"-\".\n",
    "\n",
    "```\n",
    "Entrada:\n",
    "5\n",
    "+\n",
    "8\n",
    "-\n",
    "3\n",
    "+\n",
    "2\n",
    "Fim\n",
    "\n",
    "Saída:\n",
    "12\n",
    "```"
   ]
  },
  {
   "cell_type": "code",
   "execution_count": 20,
   "id": "e835d870",
   "metadata": {},
   "outputs": [
    {
     "name": "stdin",
     "output_type": "stream",
     "text": [
      " 1\n",
      " +\n",
      " 2\n",
      " fim\n"
     ]
    },
    {
     "name": "stdout",
     "output_type": "stream",
     "text": [
      "3\n"
     ]
    }
   ],
   "source": [
    "## Escreva e execute seu código aqui\n",
    "\n",
    "##Definição de variáveis\n",
    "import sys\n",
    "f = 10 \n",
    "result = 0\n",
    "\n",
    "result = int(input())\n",
    "for i in range(sys.maxsize):\n",
    "    op = input()\n",
    "    if (op == 'fim'):\n",
    "        break\n",
    "    n1 = int(input())\n",
    "    if op == '+':\n",
    "        result = n1 + result\n",
    "    elif op == '-':\n",
    "        result = result - n1\n",
    "    \n",
    "\n",
    "print(result)\n"
   ]
  },
  {
   "cell_type": "code",
   "execution_count": null,
   "id": "56b5257e-996f-4d52-800a-aaf56a5b9c3b",
   "metadata": {},
   "outputs": [],
   "source": []
  }
 ],
 "metadata": {
  "kernelspec": {
   "display_name": "Python 3 (ipykernel)",
   "language": "python",
   "name": "python3"
  },
  "language_info": {
   "codemirror_mode": {
    "name": "ipython",
    "version": 3
   },
   "file_extension": ".py",
   "mimetype": "text/x-python",
   "name": "python",
   "nbconvert_exporter": "python",
   "pygments_lexer": "ipython3",
   "version": "3.11.7"
  }
 },
 "nbformat": 4,
 "nbformat_minor": 5
}
